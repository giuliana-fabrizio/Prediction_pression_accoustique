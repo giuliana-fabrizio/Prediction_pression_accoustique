{
  "cells": [
    {
      "cell_type": "markdown",
      "metadata": {
        "id": "xxlVGlJJ8UjD"
      },
      "source": [
        "Le dataset que nous utilisons dans cette analyse concerne un ensemble de données de la NASA obtenu à partir d’une série d’essais aérodynamiques et acoustiques de sections de pales bidimensionnelles et tridimensionnelles menées dans une soufflerie anéchoïque.\n",
        "<br>\n",
        "<br>\n",
        "**Statistiques de base :**\n",
        "* Nombre de lignes : 1503\n",
        "* Nombre de colonnes : 6\n",
        "* Valeurs manquantes : 0\n",
        "<br>\n",
        "<br>\n",
        "\n",
        "**Objectif de l'analyse :**\n",
        "<br>\n",
        "Notre objectif principal est de développer un modèle de prédiction pour le niveau de pression acoustique mis à l'échelle en décibels. Pour cela nous allons utiliser une technique de régression.\n",
        "<br>\n",
        "<br>\n",
        "\n",
        "**Sources utilisées :**\n",
        "<br>"
      ]
    },
    {
      "cell_type": "markdown",
      "metadata": {
        "id": "a3tjJFiryZg7"
      },
      "source": [
        "# **Imports <br> Initialisation des variables**"
      ]
    },
    {
      "cell_type": "code",
      "execution_count": 1,
      "metadata": {
        "colab": {
          "base_uri": "https://localhost:8080/"
        },
        "id": "z4AJYzJVs_jX",
        "outputId": "357e4fe2-1c02-4d62-ee9b-31852dd1c56c"
      },
      "outputs": [],
      "source": [
        "# pip install scikit-learn, xgboost, catboost, lightgbm, matplotlib, numpy, pandas, seaborn, MiniSom\n",
        "from sklearn.ensemble import (BaggingRegressor,\n",
        "                              ExtraTreesRegressor,\n",
        "                              RandomForestRegressor,\n",
        "                              StackingRegressor,\n",
        "                              VotingRegressor)\n",
        "from sklearn.decomposition import PCA\n",
        "from sklearn.manifold import TSNE\n",
        "from sklearn.metrics import (accuracy_score,\n",
        "                             f1_score,\n",
        "                             mean_absolute_error as MAE,\n",
        "                             mean_squared_error as MSE,\n",
        "                             precision_score,\n",
        "                             recall_score,\n",
        "                             r2_score)\n",
        "from sklearn.model_selection import train_test_split, GridSearchCV, RandomizedSearchCV\n",
        "from sklearn.preprocessing import MinMaxScaler, StandardScaler\n",
        "from sklearn.tree import DecisionTreeRegressor\n",
        "\n",
        "from skopt import BayesSearchCV\n",
        "\n",
        "from xgboost import XGBRegressor\n",
        "# !pip install catboost\n",
        "from catboost import CatBoostRegressor\n",
        "from lightgbm import LGBMRegressor\n",
        "\n",
        "import matplotlib.pyplot as plt\n",
        "import numpy as np\n",
        "# print(np.__version__)\n",
        "\n",
        "import pandas as pd\n",
        "import seaborn as sns\n",
        "\n",
        "# !pip install MiniSom\n",
        "from minisom import MiniSom\n",
        "\n",
        "data = pd.read_csv(r'C:\\Users\\godai\\Documents\\BUT\\3e_annee\\semestre_5\\Données massives\\AirfoilSelfNoise.csv')\n"
      ]
    },
    {
      "cell_type": "markdown",
      "metadata": {
        "id": "173ZYx6EHZKu"
      },
      "source": [
        "# **Renommage des colonnes**"
      ]
    },
    {
      "cell_type": "code",
      "execution_count": 2,
      "metadata": {
        "colab": {
          "base_uri": "https://localhost:8080/",
          "height": 196
        },
        "id": "dko7mvh_HW6m",
        "outputId": "cbe3eeb8-07c9-43ad-a48b-ead9c4d55ad0"
      },
      "outputs": [
        {
          "data": {
            "text/html": [
              "<div>\n",
              "<style scoped>\n",
              "    .dataframe tbody tr th:only-of-type {\n",
              "        vertical-align: middle;\n",
              "    }\n",
              "\n",
              "    .dataframe tbody tr th {\n",
              "        vertical-align: top;\n",
              "    }\n",
              "\n",
              "    .dataframe thead th {\n",
              "        text-align: right;\n",
              "    }\n",
              "</style>\n",
              "<table border=\"1\" class=\"dataframe\">\n",
              "  <thead>\n",
              "    <tr style=\"text-align: right;\">\n",
              "      <th></th>\n",
              "      <th>fq_hertz</th>\n",
              "      <th>angle_attaque</th>\n",
              "      <th>longueur_corde</th>\n",
              "      <th>vitesse_flux_libre</th>\n",
              "      <th>epaisseur_dep_aspiration</th>\n",
              "      <th>pression_accoustique</th>\n",
              "    </tr>\n",
              "  </thead>\n",
              "  <tbody>\n",
              "    <tr>\n",
              "      <th>0</th>\n",
              "      <td>800</td>\n",
              "      <td>0.0</td>\n",
              "      <td>0.3048</td>\n",
              "      <td>71.3</td>\n",
              "      <td>0.002663</td>\n",
              "      <td>126.201</td>\n",
              "    </tr>\n",
              "    <tr>\n",
              "      <th>1</th>\n",
              "      <td>1000</td>\n",
              "      <td>0.0</td>\n",
              "      <td>0.3048</td>\n",
              "      <td>71.3</td>\n",
              "      <td>0.002663</td>\n",
              "      <td>125.201</td>\n",
              "    </tr>\n",
              "  </tbody>\n",
              "</table>\n",
              "</div>"
            ],
            "text/plain": [
              "   fq_hertz  angle_attaque  longueur_corde  vitesse_flux_libre  \\\n",
              "0       800            0.0          0.3048                71.3   \n",
              "1      1000            0.0          0.3048                71.3   \n",
              "\n",
              "   epaisseur_dep_aspiration  pression_accoustique  \n",
              "0                  0.002663               126.201  \n",
              "1                  0.002663               125.201  "
            ]
          },
          "metadata": {},
          "output_type": "display_data"
        }
      ],
      "source": [
        "data = data.rename(columns={'f': 'fq_hertz',\n",
        "                            'alpha': 'angle_attaque',\n",
        "                            'c': 'longueur_corde',\n",
        "                            'U_infinity': 'vitesse_flux_libre',\n",
        "                            'delta': 'epaisseur_dep_aspiration',\n",
        "                            'SSPL': 'pression_accoustique'})\n",
        "display(data.head(2))"
      ]
    },
    {
      "cell_type": "markdown",
      "metadata": {
        "id": "RfcwCtfW5oW_"
      },
      "source": [
        "# **Apperçu du dataset**"
      ]
    },
    {
      "cell_type": "code",
      "execution_count": 36,
      "metadata": {
        "colab": {
          "base_uri": "https://localhost:8080/",
          "height": 1000
        },
        "id": "KkSF5DehyX_4",
        "outputId": "f28de972-921f-4a56-e8ba-079cb2d64c78"
      },
      "outputs": [
        {
          "name": "stdout",
          "output_type": "stream",
          "text": [
            "\tDIMENSIONS DU DATA (lignes, colonnes) : (1503, 6)\n",
            "\n",
            "\n",
            "\tPREMIERES LIGNES\n"
          ]
        },
        {
          "data": {
            "text/html": [
              "<div>\n",
              "<style scoped>\n",
              "    .dataframe tbody tr th:only-of-type {\n",
              "        vertical-align: middle;\n",
              "    }\n",
              "\n",
              "    .dataframe tbody tr th {\n",
              "        vertical-align: top;\n",
              "    }\n",
              "\n",
              "    .dataframe thead th {\n",
              "        text-align: right;\n",
              "    }\n",
              "</style>\n",
              "<table border=\"1\" class=\"dataframe\">\n",
              "  <thead>\n",
              "    <tr style=\"text-align: right;\">\n",
              "      <th></th>\n",
              "      <th>fq_hertz</th>\n",
              "      <th>angle_attaque</th>\n",
              "      <th>longueur_corde</th>\n",
              "      <th>vitesse_flux_libre</th>\n",
              "      <th>epaisseur_dep_aspiration</th>\n",
              "      <th>pression_accoustique</th>\n",
              "    </tr>\n",
              "  </thead>\n",
              "  <tbody>\n",
              "    <tr>\n",
              "      <th>0</th>\n",
              "      <td>800</td>\n",
              "      <td>0.0</td>\n",
              "      <td>0.3048</td>\n",
              "      <td>71.3</td>\n",
              "      <td>0.002663</td>\n",
              "      <td>126.201</td>\n",
              "    </tr>\n",
              "    <tr>\n",
              "      <th>1</th>\n",
              "      <td>1000</td>\n",
              "      <td>0.0</td>\n",
              "      <td>0.3048</td>\n",
              "      <td>71.3</td>\n",
              "      <td>0.002663</td>\n",
              "      <td>125.201</td>\n",
              "    </tr>\n",
              "    <tr>\n",
              "      <th>2</th>\n",
              "      <td>1250</td>\n",
              "      <td>0.0</td>\n",
              "      <td>0.3048</td>\n",
              "      <td>71.3</td>\n",
              "      <td>0.002663</td>\n",
              "      <td>125.951</td>\n",
              "    </tr>\n",
              "  </tbody>\n",
              "</table>\n",
              "</div>"
            ],
            "text/plain": [
              "   fq_hertz  angle_attaque  longueur_corde  vitesse_flux_libre  \\\n",
              "0       800            0.0          0.3048                71.3   \n",
              "1      1000            0.0          0.3048                71.3   \n",
              "2      1250            0.0          0.3048                71.3   \n",
              "\n",
              "   epaisseur_dep_aspiration  pression_accoustique  \n",
              "0                  0.002663               126.201  \n",
              "1                  0.002663               125.201  \n",
              "2                  0.002663               125.951  "
            ]
          },
          "metadata": {},
          "output_type": "display_data"
        },
        {
          "name": "stdout",
          "output_type": "stream",
          "text": [
            "\n",
            "\n",
            "\tINFORMATIONS SUR LE DATA\n",
            "<class 'pandas.core.frame.DataFrame'>\n",
            "RangeIndex: 1503 entries, 0 to 1502\n",
            "Data columns (total 6 columns):\n",
            " #   Column                    Non-Null Count  Dtype  \n",
            "---  ------                    --------------  -----  \n",
            " 0   fq_hertz                  1503 non-null   int64  \n",
            " 1   angle_attaque             1503 non-null   float64\n",
            " 2   longueur_corde            1503 non-null   float64\n",
            " 3   vitesse_flux_libre        1503 non-null   float64\n",
            " 4   epaisseur_dep_aspiration  1503 non-null   float64\n",
            " 5   pression_accoustique      1503 non-null   float64\n",
            "dtypes: float64(5), int64(1)\n",
            "memory usage: 70.6 KB\n",
            "None \n",
            "\n",
            "\n"
          ]
        }
      ],
      "source": [
        "# apperçu des données*\n",
        "print(\"\\tDIMENSIONS DU DATA (lignes, colonnes) :\", data.shape)\n",
        "print(\"\\n\\n\\tPREMIERES LIGNES\")\n",
        "display(data.head(3))\n",
        "print(\"\\n\\n\\tINFORMATIONS SUR LE DATA\")\n",
        "print(data.info(), \"\\n\\n\")"
      ]
    },
    {
      "cell_type": "markdown",
      "metadata": {
        "id": "VY6v3luDjeEQ"
      },
      "source": [
        "# **Nettoyage et statistiques récapitulatives du dataset**"
      ]
    },
    {
      "cell_type": "code",
      "execution_count": 4,
      "metadata": {
        "colab": {
          "base_uri": "https://localhost:8080/",
          "height": 225
        },
        "id": "gQTvBS9W2zT_",
        "outputId": "0dfde2e7-68e6-4715-bb3a-08b13ad30e3d"
      },
      "outputs": [
        {
          "data": {
            "text/plain": [
              "fq_hertz                    0\n",
              "angle_attaque               0\n",
              "longueur_corde              0\n",
              "vitesse_flux_libre          0\n",
              "epaisseur_dep_aspiration    0\n",
              "pression_accoustique        0\n",
              "dtype: int64"
            ]
          },
          "metadata": {},
          "output_type": "display_data"
        }
      ],
      "source": [
        "# affichage des données nulles\n",
        "display(data.isnull().sum())\n",
        "\n",
        "data = data.dropna() # supprimer les lignes qui contiennent des valeurs manquantes\n",
        "data = data.drop_duplicates() # supprimer les doublons"
      ]
    },
    {
      "cell_type": "markdown",
      "metadata": {},
      "source": [
        "## Remarque\n",
        "Pas de valeurs manquantes"
      ]
    },
    {
      "cell_type": "code",
      "execution_count": 5,
      "metadata": {
        "colab": {
          "base_uri": "https://localhost:8080/",
          "height": 350
        },
        "id": "fopvOMBB9e0r",
        "outputId": "67553871-da2f-444d-9a02-b404cb860e3e"
      },
      "outputs": [
        {
          "data": {
            "text/html": [
              "<div>\n",
              "<style scoped>\n",
              "    .dataframe tbody tr th:only-of-type {\n",
              "        vertical-align: middle;\n",
              "    }\n",
              "\n",
              "    .dataframe tbody tr th {\n",
              "        vertical-align: top;\n",
              "    }\n",
              "\n",
              "    .dataframe thead th {\n",
              "        text-align: right;\n",
              "    }\n",
              "</style>\n",
              "<table border=\"1\" class=\"dataframe\">\n",
              "  <thead>\n",
              "    <tr style=\"text-align: right;\">\n",
              "      <th></th>\n",
              "      <th>fq_hertz</th>\n",
              "      <th>angle_attaque</th>\n",
              "      <th>longueur_corde</th>\n",
              "      <th>vitesse_flux_libre</th>\n",
              "      <th>epaisseur_dep_aspiration</th>\n",
              "      <th>pression_accoustique</th>\n",
              "    </tr>\n",
              "  </thead>\n",
              "  <tbody>\n",
              "    <tr>\n",
              "      <th>count</th>\n",
              "      <td>1503.000000</td>\n",
              "      <td>1503.000000</td>\n",
              "      <td>1503.000000</td>\n",
              "      <td>1503.000000</td>\n",
              "      <td>1503.000000</td>\n",
              "      <td>1503.000000</td>\n",
              "    </tr>\n",
              "    <tr>\n",
              "      <th>mean</th>\n",
              "      <td>2886.380572</td>\n",
              "      <td>6.782302</td>\n",
              "      <td>0.136548</td>\n",
              "      <td>50.860745</td>\n",
              "      <td>0.011140</td>\n",
              "      <td>124.835943</td>\n",
              "    </tr>\n",
              "    <tr>\n",
              "      <th>std</th>\n",
              "      <td>3152.573137</td>\n",
              "      <td>5.918128</td>\n",
              "      <td>0.093541</td>\n",
              "      <td>15.572784</td>\n",
              "      <td>0.013150</td>\n",
              "      <td>6.898657</td>\n",
              "    </tr>\n",
              "    <tr>\n",
              "      <th>min</th>\n",
              "      <td>200.000000</td>\n",
              "      <td>0.000000</td>\n",
              "      <td>0.025400</td>\n",
              "      <td>31.700000</td>\n",
              "      <td>0.000401</td>\n",
              "      <td>103.380000</td>\n",
              "    </tr>\n",
              "    <tr>\n",
              "      <th>25%</th>\n",
              "      <td>800.000000</td>\n",
              "      <td>2.000000</td>\n",
              "      <td>0.050800</td>\n",
              "      <td>39.600000</td>\n",
              "      <td>0.002535</td>\n",
              "      <td>120.191000</td>\n",
              "    </tr>\n",
              "    <tr>\n",
              "      <th>50%</th>\n",
              "      <td>1600.000000</td>\n",
              "      <td>5.400000</td>\n",
              "      <td>0.101600</td>\n",
              "      <td>39.600000</td>\n",
              "      <td>0.004957</td>\n",
              "      <td>125.721000</td>\n",
              "    </tr>\n",
              "    <tr>\n",
              "      <th>75%</th>\n",
              "      <td>4000.000000</td>\n",
              "      <td>9.900000</td>\n",
              "      <td>0.228600</td>\n",
              "      <td>71.300000</td>\n",
              "      <td>0.015576</td>\n",
              "      <td>129.995500</td>\n",
              "    </tr>\n",
              "    <tr>\n",
              "      <th>max</th>\n",
              "      <td>20000.000000</td>\n",
              "      <td>22.200000</td>\n",
              "      <td>0.304800</td>\n",
              "      <td>71.300000</td>\n",
              "      <td>0.058411</td>\n",
              "      <td>140.987000</td>\n",
              "    </tr>\n",
              "  </tbody>\n",
              "</table>\n",
              "</div>"
            ],
            "text/plain": [
              "           fq_hertz  angle_attaque  longueur_corde  vitesse_flux_libre  \\\n",
              "count   1503.000000    1503.000000     1503.000000         1503.000000   \n",
              "mean    2886.380572       6.782302        0.136548           50.860745   \n",
              "std     3152.573137       5.918128        0.093541           15.572784   \n",
              "min      200.000000       0.000000        0.025400           31.700000   \n",
              "25%      800.000000       2.000000        0.050800           39.600000   \n",
              "50%     1600.000000       5.400000        0.101600           39.600000   \n",
              "75%     4000.000000       9.900000        0.228600           71.300000   \n",
              "max    20000.000000      22.200000        0.304800           71.300000   \n",
              "\n",
              "       epaisseur_dep_aspiration  pression_accoustique  \n",
              "count               1503.000000           1503.000000  \n",
              "mean                   0.011140            124.835943  \n",
              "std                    0.013150              6.898657  \n",
              "min                    0.000401            103.380000  \n",
              "25%                    0.002535            120.191000  \n",
              "50%                    0.004957            125.721000  \n",
              "75%                    0.015576            129.995500  \n",
              "max                    0.058411            140.987000  "
            ]
          },
          "metadata": {},
          "output_type": "display_data"
        }
      ],
      "source": [
        "display(data.describe())"
      ]
    },
    {
      "cell_type": "markdown",
      "metadata": {},
      "source": [
        "## Remarques\n",
        "On remarque des valeurs aberrantes dans la première et la deuxième colonnes car le maximum est très éloigné du 3e quartile."
      ]
    },
    {
      "cell_type": "code",
      "execution_count": 6,
      "metadata": {
        "colab": {
          "base_uri": "https://localhost:8080/",
          "height": 1000
        },
        "id": "uSdrsG7EwQDp",
        "outputId": "7f1f38f6-a5b2-49d9-f383-333bf77252f6"
      },
      "outputs": [
        {
          "data": {
            "image/png": "[encoded data removed]",
            "text/plain": [
              "<Figure size 2000x400 with 1 Axes>"
            ]
          },
          "metadata": {},
          "output_type": "display_data"
        },
        {
          "data": {
            "image/png": "[encoded data removed]",
            "text/plain": [
              "<Figure size 2000x400 with 1 Axes>"
            ]
          },
          "metadata": {},
          "output_type": "display_data"
        },
        {
          "data": {
            "image/png": "[encoded data removed]",
            "text/plain": [
              "<Figure size 2000x400 with 1 Axes>"
            ]
          },
          "metadata": {},
          "output_type": "display_data"
        },
        {
          "data": {
            "image/png": "[encoded data removed]",
            "text/plain": [
              "<Figure size 2000x400 with 1 Axes>"
            ]
          },
          "metadata": {},
          "output_type": "display_data"
        },
        {
          "data": {
            "image/png": "[encoded data removed]",
            "text/plain": [
              "<Figure size 2000x400 with 1 Axes>"
            ]
          },
          "metadata": {},
          "output_type": "display_data"
        },
        {
          "data": {
            "image/png": "[encoded data removed]",
            "text/plain": [
              "<Figure size 2000x400 with 1 Axes>"
            ]
          },
          "metadata": {},
          "output_type": "display_data"
        }
      ],
      "source": [
        "def remplacer_valeurs_aberrantes(data, column):\n",
        "  valeurs = data[column].astype(float)\n",
        "\n",
        "  # Calcul des quartiles\n",
        "  q1 = valeurs.quantile(0.25)\n",
        "  q3 = valeurs.quantile(0.75)\n",
        "\n",
        "  # Calcul de la plage interquartiles\n",
        "  iqr = q3 - q1\n",
        "\n",
        "  # Calcul des limites des moustaches\n",
        "  moustache_inferieure = q1 - 1.5 * iqr\n",
        "  moustache_superieure = q3 + 1.5 * iqr\n",
        "\n",
        "  # Remplacement des valeurs aberrantes par des valeurs entre le premier et le troisième quartile\n",
        "  data.loc[data[column] < moustache_inferieure, column] = moustache_inferieure\n",
        "  data.loc[data[column] > moustache_superieure, column] = moustache_superieure\n",
        "\n",
        "\n",
        "def affichage_box_plot(column):\n",
        "  valeurs = data[column].astype(int).tolist()\n",
        "  plt.figure(figsize=(20, 4))\n",
        "  plt.boxplot(valeurs, vert=False)\n",
        "  plt.title(f'Boîte à moustaches colonne {column}')\n",
        "  plt.show()\n",
        "\n",
        "for column in data.columns:\n",
        "    remplacer_valeurs_aberrantes(data, column)\n",
        "    affichage_box_plot(column)"
      ]
    },
    {
      "cell_type": "markdown",
      "metadata": {},
      "source": [
        "# **=========================================================================================Exploratory_Data_Analysis_(EDA)=========================================================================================**"
      ]
    },
    {
      "cell_type": "code",
      "execution_count": null,
      "metadata": {},
      "outputs": [],
      "source": [
        "data.hist(bins=20, figsize=(12, 8))\n",
        "plt.show()"
      ]
    },
    {
      "cell_type": "markdown",
      "metadata": {},
      "source": [
        "# **Matrice de corrélation**"
      ]
    },
    {
      "cell_type": "code",
      "execution_count": null,
      "metadata": {},
      "outputs": [],
      "source": [
        "# variables\n",
        "matrice = data.corr()\n",
        "\n",
        "# graph\n",
        "plt.figure(figsize=(20, 6))\n",
        "sns.heatmap(matrice, annot=True, cmap='PiYG')\n",
        "plt.title('Matrice de corrélation')\n",
        "plt.show()\n",
        "\n",
        "print()\n",
        "print()\n",
        "\n",
        "# cible sur la target\n",
        "display(matrice.head(1))"
      ]
    },
    {
      "cell_type": "markdown",
      "metadata": {},
      "source": [
        "## Remarques\n",
        "* -1 < valeurs matrice < 1\n",
        "    - valeur proche de 1 --> corrélation forte\n",
        "    - valeur proche de 0 --> corrélation faible\n",
        "    - valeur proche de -1 --> corrélation négative\n",
        "* valeurs > 0 --> corrélation positive : les deux variables augmentent ou diminuent ensemble\n",
        "* valeurs < 0 --> corrélation négative : les deux variables augmentent ou diminuent dans des directions opposées\n",
        "<br>\n",
        "<br>\n",
        "\n",
        "On remarque principalement que :\n",
        "* il y a une corrélation positive entre l'angle d'attaque et l'épaisseur du déplacement coté aspiration\n",
        "* il y a une corrélation négative entre l'angle d'attaque et la longueur de la corde\n",
        "* il y a une corrélation négative entre la pression accoustique et la fréquence"
      ]
    }
  ],
  "metadata": {
    "colab": {
      "collapsed_sections": [
        "a3tjJFiryZg7",
        "173ZYx6EHZKu",
        "RfcwCtfW5oW_",
        "VY6v3luDjeEQ",
        "wpFmCtk1yzHG",
        "foCYXuFuj-LT",
        "rMVv8AF-sqoy",
        "6EADMmYjwuMn",
        "KzBS-N7lmiUB",
        "DgTo3_m9tbdV",
        "puHAey1RiVEG",
        "pExiwj0cuRqa",
        "zYBc4P-A4i1-",
        "FG0IUZj84vu-",
        "cO6Apn-WTp4T"
      ],
      "provenance": []
    },
    "kernelspec": {
      "display_name": "Python 3",
      "name": "python3"
    },
    "language_info": {
      "codemirror_mode": {
        "name": "ipython",
        "version": 3
      },
      "file_extension": ".py",
      "mimetype": "text/x-python",
      "name": "python",
      "nbconvert_exporter": "python",
      "pygments_lexer": "ipython3",
      "version": "3.11.6"
    }
  },
  "nbformat": 4,
  "nbformat_minor": 0
}
